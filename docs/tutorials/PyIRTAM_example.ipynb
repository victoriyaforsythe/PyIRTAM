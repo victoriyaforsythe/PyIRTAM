{
 "cells": [
  {
   "cell_type": "code",
   "execution_count": null,
   "id": "b275aee6-84e4-4f9b-8bcf-031eaa3a07eb",
   "metadata": {},
   "outputs": [
    {
     "ename": "",
     "evalue": "",
     "output_type": "error",
     "traceback": [
      "\u001b[1;31mRunning cells with 'Python 3.12.3' requires the ipykernel package.\n",
      "\u001b[1;31mRun the following command to install 'ipykernel' into the Python environment. \n",
      "\u001b[1;31mCommand: '/usr/local/bin/python3 -m pip install ipykernel -U --user --force-reinstall'"
     ]
    }
   ],
   "source": [
    "#!/usr/bin/env python\n",
    "# --------------------------------------------------------\n",
    "# Distribution statement A. Approved for public release.\n",
    "# Distribution is unlimited.\n",
    "# This work was supported by the Office of Naval Research.\n",
    "# --------------------------------------------------------\n",
    "\n",
    "import datetime as dt\n",
    "import numpy as np\n",
    "import PyIRI\n",
    "import PyIRI.main_library as ml\n",
    "import PyIRTAM\n",
    "import PyIRTAM.lib as il\n",
    "import time\n",
    "\n",
    "# To record how long it takes to run this script get the start time\n",
    "st = time.time()\n",
    "\n",
    "# Create 5x5 horizontal grid:\n",
    "alon, alat, alon_2d, alat_2d = ml.set_geo_grid(5, 5)\n",
    "\n",
    "# Create vertical grid:\n",
    "aalt = np.arange(100, 700, 10)\n",
    "\n",
    "# Create 15-min resolution time array:\n",
    "aUT = np.arange(0, 24, 0.25)\n",
    "\n",
    "# Day of Interest:\n",
    "year = 2022\n",
    "month = 11\n",
    "day = 18\n",
    "dtime = dt.datetime(year, month, day)\n",
    "\n",
    "# Specify F10.7:\n",
    "F107 = 79.9\n",
    "\n",
    "# Directory on your machine where IRTAM coefficients live\n",
    "irtam_dir = '/Users/vmakarevich/Documents/Science_VF2/PyIRTAM/IRTAM/'\n",
    "\n",
    "# Directory on your machine where you want to save plots\n",
    "save_plot_dir = '/Users/vmakarevich/Documents/Science_VF2/PyIRI_Test/'\n",
    "\n",
    "# First, determine the standard PyIRI parameters for the day of interest\n",
    "# It is better to do it in the beginning (outside the time loop),\n",
    "# so that PyIRI is called only once for the whole day.\n",
    "ccir_or_ursi = 1  # 0 = CCIR, 1 = URSI\n",
    "f2_b, f1_b, e_b, es_b, sun, mag, edp_b = ml.IRI_density_1day(year,\n",
    "                                                             month,\n",
    "                                                             day,\n",
    "                                                             aUT,\n",
    "                                                             alon,\n",
    "                                                             alat,\n",
    "                                                             aalt,\n",
    "                                                             F107,\n",
    "                                                             PyIRI.coeff_dir,\n",
    "                                                             ccir_or_ursi)\n",
    "\n",
    "print('PyIRI run for the day is completed. Starting IRTAM part:')\n",
    "\n",
    "for it in range(0, aUT.size):\n",
    "    \n",
    "    # Dtime for one time frame\n",
    "    hour = int(np.fix(aUT[it]))\n",
    "    minute = int((aUT[it] - hour) * 60.)\n",
    "    dtime = dt.datetime(year, month, day, hour, minute, 0)\n",
    "    \n",
    "    print('Working with time frame: ', dtime)\n",
    "\n",
    "    # THIS IS THE MAIN FUNCTION TO CALL FOR IRTAM:\n",
    "    F2, F1, E, Es, EDP = il.call_IRTAM_PyIRI(aUT,\n",
    "                                             dtime,\n",
    "                                             alon,\n",
    "                                             alat,\n",
    "                                             aalt,\n",
    "                                             f2_b,\n",
    "                                             f1_b,\n",
    "                                             e_b,\n",
    "                                             es_b,\n",
    "                                             mag['modip'],\n",
    "                                             aUT[it],\n",
    "                                             PyIRI.coeff_dir,\n",
    "                                             irtam_dir)\n",
    "\n",
    "    # Save the results here by adding them to the array or\n",
    "    # making a pickle or .nc file\n",
    "\n",
    "# Get the end time of the script run and the execution time\n",
    "et = time.time()\n",
    "elapsed_time = et - st\n",
    "print('Execution time:', elapsed_time, 'seconds')"
   ]
  },
  {
   "cell_type": "code",
   "execution_count": null,
   "id": "959acd76-69c0-47c9-8a15-4ad27b4f2517",
   "metadata": {},
   "outputs": [
    {
     "ename": "",
     "evalue": "",
     "output_type": "error",
     "traceback": [
      "\u001b[1;31mRunning cells with 'Python 3.12.3' requires the ipykernel package.\n",
      "\u001b[1;31mRun the following command to install 'ipykernel' into the Python environment. \n",
      "\u001b[1;31mCommand: '/usr/local/bin/python3 -m pip install ipykernel -U --user --force-reinstall'"
     ]
    }
   ],
   "source": [
    "import numpy as np\n",
    "import matplotlib.pyplot as plt\n",
    "import PyIRI\n",
    "import PyIRI.main_library as ml\n",
    "from datetime import datetime, timedelta\n",
    "from mpl_toolkits.axes_grid1 import make_axes_locatable\n",
    "from mpl_toolkits import mplot3d\n",
    "from mpl_toolkits.mplot3d import Axes3D\n",
    "from matplotlib import cm\n",
    "fig, ax = plt.subplots(1, 1, sharex=True, sharey=True, figsize=(6, 3), constrained_layout=True)\n",
    "\n",
    "plt.xlim([0, 2.5e12])\n",
    "plt.ylim([0, 700])\n",
    "print(edp_b.shape)\n",
    "print(F2['Nm'].shape)\n",
    "\n",
    "ind = 200\n",
    "\n",
    "ax.plot(EDP[:, ind], aalt)\n",
    "ax.scatter(F2['Nm'][0, ind], F2['hm'][0, ind])\n",
    "\n",
    "\n",
    "edp_b = np.swapaxes(edp_b, 1, 2)\n",
    "print(edp_b.shape)\n",
    "ax.plot(edp_b[:, -1, ind], aalt)\n",
    "ax.scatter(f2_b['Nm'][-1, ind], f2_b['hm'][-1, ind])"
   ]
  },
  {
   "cell_type": "code",
   "execution_count": null,
   "id": "2b634475-31dd-4d18-a4c9-5fd131613fc4",
   "metadata": {},
   "outputs": [
    {
     "ename": "",
     "evalue": "",
     "output_type": "error",
     "traceback": [
      "\u001b[1;31mRunning cells with 'Python 3.12.3' requires the ipykernel package.\n",
      "\u001b[1;31mRun the following command to install 'ipykernel' into the Python environment. \n",
      "\u001b[1;31mCommand: '/usr/local/bin/python3 -m pip install ipykernel -U --user --force-reinstall'"
     ]
    }
   ],
   "source": []
  }
 ],
 "metadata": {
  "kernelspec": {
   "display_name": "Python 3 (ipykernel)",
   "language": "python",
   "name": "python3"
  },
  "language_info": {
   "codemirror_mode": {
    "name": "ipython",
    "version": 3
   },
   "file_extension": ".py",
   "mimetype": "text/x-python",
   "name": "python",
   "nbconvert_exporter": "python",
   "pygments_lexer": "ipython3",
   "version": "3.12.3"
  }
 },
 "nbformat": 4,
 "nbformat_minor": 5
}

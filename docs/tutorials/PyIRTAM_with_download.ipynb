{
 "cells": [
  {
   "cell_type": "markdown",
   "id": "95770eed",
   "metadata": {},
   "source": [
    "Example 2: 15-min PyIRTAM with Coefficient Download\n",
    "========================================\n",
    "\n",
    "If you don't have PyIRTAM coefficients, you can run this code for each 15-min chunks\n",
    "to download the coefficients and to construct the density.\n",
    "The estimation of the parameters occurs\n",
    "simultaneously at all grid points but separately for the desired diurnal time frames. "
   ]
  },
  {
   "cell_type": "code",
   "execution_count": 3,
   "id": "abfe6476",
   "metadata": {},
   "outputs": [
    {
     "name": "stdout",
     "output_type": "stream",
     "text": [
      "Modules imported\n",
      "Running PyIRTAM\n",
      "PyIRTAM run is completed\n",
      "Shape of Nm in f2_irtam is:  (1, 2701)\n"
     ]
    }
   ],
   "source": [
    "# Import libraries\n",
    "import datetime as dt\n",
    "import numpy as np\n",
    "import PyIRI.main_library as ml\n",
    "import PyIRTAM\n",
    "print('Modules imported')\n",
    "\n",
    "# Specify a year, a month, a day, and a 15-min time window\n",
    "year = 2024\n",
    "month = 6\n",
    "day = 1\n",
    "hour = 2\n",
    "minute = 15\n",
    "# Specify array for decimal hour\n",
    "ahr = np.array([hour + minute / 60.])\n",
    "dtime = dt.datetime(year, month, day, hour, minute, 0)\n",
    "\n",
    "# Specify solar flux index F10.7 in SFU\n",
    "f107 = 90.8\n",
    "\n",
    "# Create any horizontal grid (regular or irregular, global or regional).\n",
    "# The grid arrays (alon and alat) should be flattened to be 1-D arrays.\n",
    "# This is an example of a regular global grid\n",
    "dlon = 5\n",
    "dlat = 5\n",
    "# Create 5x5 horizontal grid:\n",
    "alon, alat, alon_2d, alat_2d = ml.set_geo_grid(dlon, dlat)\n",
    "\n",
    "# Create height array. It can be regular or irregular.\n",
    "# Here is an example for regularly spaced array\n",
    "alt_res = 10\n",
    "alt_min = 90\n",
    "alt_max = 700\n",
    "aalt = np.arange(alt_min, alt_max, alt_res)\n",
    "\n",
    "# Run PyIRTAM for the selected time frame\n",
    "# If irtam_dir='' in the inputs, the coefficients will be downloaded\n",
    "print('Running PyIRTAM')\n",
    "# Run PyIRTAM\n",
    "(f2_iri, f1_iri, e_iri, es_iri, sun, mag, edp_iri, f2_irtam, f1_irtam,\n",
    "e_irtam, es_irtam, edp_irtam) = PyIRTAM.run_PyIRTAM(year, month, day, ahr,\n",
    "                                                    alon, alat, aalt, f107,\n",
    "                                                    irtam_dir='',\n",
    "                                                    use_subdirs=True,\n",
    "                                                    download=True)\n",
    "print('PyIRTAM run is completed')\n",
    "print('Shape of Nm in f2_irtam is: ', f2_irtam['Nm'].shape)"
   ]
  }
 ],
 "metadata": {
  "kernelspec": {
   "display_name": "Python 3 (ipykernel)",
   "language": "python",
   "name": "python3"
  },
  "language_info": {
   "codemirror_mode": {
    "name": "ipython",
    "version": 3
   },
   "file_extension": ".py",
   "mimetype": "text/x-python",
   "name": "python",
   "nbconvert_exporter": "python",
   "pygments_lexer": "ipython3",
   "version": "3.9.6"
  }
 },
 "nbformat": 4,
 "nbformat_minor": 5
}
